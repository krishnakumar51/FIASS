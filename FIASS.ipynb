{
  "nbformat": 4,
  "nbformat_minor": 0,
  "metadata": {
    "colab": {
      "provenance": [],
      "authorship_tag": "ABX9TyMLfgUhJPCL/oShAhPDgwMT",
      "include_colab_link": true
    },
    "kernelspec": {
      "name": "python3",
      "display_name": "Python 3"
    },
    "language_info": {
      "name": "python"
    }
  },
  "cells": [
    {
      "cell_type": "markdown",
      "metadata": {
        "id": "view-in-github",
        "colab_type": "text"
      },
      "source": [
        "<a href=\"https://colab.research.google.com/github/krishnakumar51/FIASS/blob/main/FIASS.ipynb\" target=\"_parent\"><img src=\"https://colab.research.google.com/assets/colab-badge.svg\" alt=\"Open In Colab\"/></a>"
      ]
    },
    {
      "cell_type": "markdown",
      "source": [
        "#Using FIASS\n",
        "\n",
        "\n"
      ],
      "metadata": {
        "id": "0QFI4gOjPE8D"
      }
    },
    {
      "cell_type": "code",
      "execution_count": null,
      "metadata": {
        "colab": {
          "base_uri": "https://localhost:8080/"
        },
        "id": "L5P9mjqdYNol",
        "outputId": "be6aa41f-e073-4ab3-ddef-d25731544af3"
      },
      "outputs": [
        {
          "output_type": "stream",
          "name": "stdout",
          "text": [
            "\u001b[2K     \u001b[90m━━━━━━━━━━━━━━━━━━━━━━━━━━━━━━━━━━━━━━━━\u001b[0m \u001b[32m809.1/809.1 kB\u001b[0m \u001b[31m10.8 MB/s\u001b[0m eta \u001b[36m0:00:00\u001b[0m\n",
            "\u001b[2K     \u001b[90m━━━━━━━━━━━━━━━━━━━━━━━━━━━━━━━━━━━━━━━━\u001b[0m \u001b[32m286.1/286.1 kB\u001b[0m \u001b[31m12.5 MB/s\u001b[0m eta \u001b[36m0:00:00\u001b[0m\n",
            "\u001b[2K     \u001b[90m━━━━━━━━━━━━━━━━━━━━━━━━━━━━━━━━━━━━━━━━\u001b[0m \u001b[32m86.0/86.0 kB\u001b[0m \u001b[31m10.6 MB/s\u001b[0m eta \u001b[36m0:00:00\u001b[0m\n",
            "\u001b[?25h  Preparing metadata (setup.py) ... \u001b[?25l\u001b[?25hdone\n",
            "\u001b[2K     \u001b[90m━━━━━━━━━━━━━━━━━━━━━━━━━━━━━━━━━━━━━━━━\u001b[0m \u001b[32m1.8/1.8 MB\u001b[0m \u001b[31m20.7 MB/s\u001b[0m eta \u001b[36m0:00:00\u001b[0m\n",
            "\u001b[2K     \u001b[90m━━━━━━━━━━━━━━━━━━━━━━━━━━━━━━━━━━━━━━━━\u001b[0m \u001b[32m260.9/260.9 kB\u001b[0m \u001b[31m18.4 MB/s\u001b[0m eta \u001b[36m0:00:00\u001b[0m\n",
            "\u001b[2K     \u001b[90m━━━━━━━━━━━━━━━━━━━━━━━━━━━━━━━━━━━━━━━━\u001b[0m \u001b[32m68.0/68.0 kB\u001b[0m \u001b[31m9.9 MB/s\u001b[0m eta \u001b[36m0:00:00\u001b[0m\n",
            "\u001b[2K     \u001b[90m━━━━━━━━━━━━━━━━━━━━━━━━━━━━━━━━━━━━━━━━\u001b[0m \u001b[32m49.4/49.4 kB\u001b[0m \u001b[31m6.5 MB/s\u001b[0m eta \u001b[36m0:00:00\u001b[0m\n",
            "\u001b[2K     \u001b[90m━━━━━━━━━━━━━━━━━━━━━━━━━━━━━━━━━━━━━━━━\u001b[0m \u001b[32m53.0/53.0 kB\u001b[0m \u001b[31m6.8 MB/s\u001b[0m eta \u001b[36m0:00:00\u001b[0m\n",
            "\u001b[2K     \u001b[90m━━━━━━━━━━━━━━━━━━━━━━━━━━━━━━━━━━━━━━━━\u001b[0m \u001b[32m138.5/138.5 kB\u001b[0m \u001b[31m20.2 MB/s\u001b[0m eta \u001b[36m0:00:00\u001b[0m\n",
            "\u001b[2K     \u001b[90m━━━━━━━━━━━━━━━━━━━━━━━━━━━━━━━━━━━━━━━━\u001b[0m \u001b[32m23.7/23.7 MB\u001b[0m \u001b[31m50.9 MB/s\u001b[0m eta \u001b[36m0:00:00\u001b[0m\n",
            "\u001b[2K     \u001b[90m━━━━━━━━━━━━━━━━━━━━━━━━━━━━━━━━━━━━━━━━\u001b[0m \u001b[32m823.6/823.6 kB\u001b[0m \u001b[31m66.7 MB/s\u001b[0m eta \u001b[36m0:00:00\u001b[0m\n",
            "\u001b[2K     \u001b[90m━━━━━━━━━━━━━━━━━━━━━━━━━━━━━━━━━━━━━━━━\u001b[0m \u001b[32m14.1/14.1 MB\u001b[0m \u001b[31m95.5 MB/s\u001b[0m eta \u001b[36m0:00:00\u001b[0m\n",
            "\u001b[2K     \u001b[90m━━━━━━━━━━━━━━━━━━━━━━━━━━━━━━━━━━━━━━━━\u001b[0m \u001b[32m731.7/731.7 MB\u001b[0m \u001b[31m2.2 MB/s\u001b[0m eta \u001b[36m0:00:00\u001b[0m\n",
            "\u001b[2K     \u001b[90m━━━━━━━━━━━━━━━━━━━━━━━━━━━━━━━━━━━━━━━━\u001b[0m \u001b[32m410.6/410.6 MB\u001b[0m \u001b[31m2.6 MB/s\u001b[0m eta \u001b[36m0:00:00\u001b[0m\n",
            "\u001b[2K     \u001b[90m━━━━━━━━━━━━━━━━━━━━━━━━━━━━━━━━━━━━━━━━\u001b[0m \u001b[32m121.6/121.6 MB\u001b[0m \u001b[31m8.2 MB/s\u001b[0m eta \u001b[36m0:00:00\u001b[0m\n",
            "\u001b[2K     \u001b[90m━━━━━━━━━━━━━━━━━━━━━━━━━━━━━━━━━━━━━━━━\u001b[0m \u001b[32m56.5/56.5 MB\u001b[0m \u001b[31m11.0 MB/s\u001b[0m eta \u001b[36m0:00:00\u001b[0m\n",
            "\u001b[2K     \u001b[90m━━━━━━━━━━━━━━━━━━━━━━━━━━━━━━━━━━━━━━━━\u001b[0m \u001b[32m124.2/124.2 MB\u001b[0m \u001b[31m8.1 MB/s\u001b[0m eta \u001b[36m0:00:00\u001b[0m\n",
            "\u001b[2K     \u001b[90m━━━━━━━━━━━━━━━━━━━━━━━━━━━━━━━━━━━━━━━━\u001b[0m \u001b[32m196.0/196.0 MB\u001b[0m \u001b[31m5.4 MB/s\u001b[0m eta \u001b[36m0:00:00\u001b[0m\n",
            "\u001b[2K     \u001b[90m━━━━━━━━━━━━━━━━━━━━━━━━━━━━━━━━━━━━━━━━\u001b[0m \u001b[32m166.0/166.0 MB\u001b[0m \u001b[31m7.1 MB/s\u001b[0m eta \u001b[36m0:00:00\u001b[0m\n",
            "\u001b[2K     \u001b[90m━━━━━━━━━━━━━━━━━━━━━━━━━━━━━━━━━━━━━━━━\u001b[0m \u001b[32m99.1/99.1 kB\u001b[0m \u001b[31m14.2 MB/s\u001b[0m eta \u001b[36m0:00:00\u001b[0m\n",
            "\u001b[2K     \u001b[90m━━━━━━━━━━━━━━━━━━━━━━━━━━━━━━━━━━━━━━━━\u001b[0m \u001b[32m21.1/21.1 MB\u001b[0m \u001b[31m78.5 MB/s\u001b[0m eta \u001b[36m0:00:00\u001b[0m\n",
            "\u001b[?25h  Building wheel for sentence-transformers (setup.py) ... \u001b[?25l\u001b[?25hdone\n"
          ]
        }
      ],
      "source": [
        "!pip install -q langchain pypdf sentence-transformers==2.2.2"
      ]
    },
    {
      "cell_type": "code",
      "source": [
        "!pip install -q openai tiktoken faiss-cpu"
      ],
      "metadata": {
        "colab": {
          "base_uri": "https://localhost:8080/"
        },
        "id": "plVAoXifYuYk",
        "outputId": "65aafb96-1a92-4cec-ecb0-c26a0607f1e9"
      },
      "execution_count": null,
      "outputs": [
        {
          "output_type": "stream",
          "name": "stdout",
          "text": [
            "\u001b[2K     \u001b[90m━━━━━━━━━━━━━━━━━━━━━━━━━━━━━━━━━━━━━━━━\u001b[0m \u001b[32m257.5/257.5 kB\u001b[0m \u001b[31m6.6 MB/s\u001b[0m eta \u001b[36m0:00:00\u001b[0m\n",
            "\u001b[2K     \u001b[90m━━━━━━━━━━━━━━━━━━━━━━━━━━━━━━━━━━━━━━━━\u001b[0m \u001b[32m1.8/1.8 MB\u001b[0m \u001b[31m16.5 MB/s\u001b[0m eta \u001b[36m0:00:00\u001b[0m\n",
            "\u001b[2K     \u001b[90m━━━━━━━━━━━━━━━━━━━━━━━━━━━━━━━━━━━━━━━━\u001b[0m \u001b[32m27.0/27.0 MB\u001b[0m \u001b[31m52.1 MB/s\u001b[0m eta \u001b[36m0:00:00\u001b[0m\n",
            "\u001b[2K     \u001b[90m━━━━━━━━━━━━━━━━━━━━━━━━━━━━━━━━━━━━━━━━\u001b[0m \u001b[32m75.6/75.6 kB\u001b[0m \u001b[31m11.6 MB/s\u001b[0m eta \u001b[36m0:00:00\u001b[0m\n",
            "\u001b[2K     \u001b[90m━━━━━━━━━━━━━━━━━━━━━━━━━━━━━━━━━━━━━━━━\u001b[0m \u001b[32m77.8/77.8 kB\u001b[0m \u001b[31m11.0 MB/s\u001b[0m eta \u001b[36m0:00:00\u001b[0m\n",
            "\u001b[2K     \u001b[90m━━━━━━━━━━━━━━━━━━━━━━━━━━━━━━━━━━━━━━━━\u001b[0m \u001b[32m58.3/58.3 kB\u001b[0m \u001b[31m7.0 MB/s\u001b[0m eta \u001b[36m0:00:00\u001b[0m\n",
            "\u001b[?25h"
          ]
        }
      ]
    },
    {
      "cell_type": "code",
      "source": [
        "# loading the data"
      ],
      "metadata": {
        "id": "4H9Tr4aRa-ht"
      },
      "execution_count": null,
      "outputs": []
    },
    {
      "cell_type": "code",
      "source": [
        "from langchain.document_loaders import PyPDFDirectoryLoader"
      ],
      "metadata": {
        "id": "3299q6YBY_mf"
      },
      "execution_count": null,
      "outputs": []
    },
    {
      "cell_type": "code",
      "source": [
        "loader = PyPDFDirectoryLoader(\"pdfs\")\n",
        "data = loader.load()"
      ],
      "metadata": {
        "id": "k8LwjQetaDwB"
      },
      "execution_count": null,
      "outputs": []
    },
    {
      "cell_type": "code",
      "source": [
        "data"
      ],
      "metadata": {
        "id": "ZJclOqfZaN11"
      },
      "execution_count": null,
      "outputs": []
    },
    {
      "cell_type": "code",
      "source": [
        "# dividing the data into chunks for training"
      ],
      "metadata": {
        "id": "7JbKi_tzbBms"
      },
      "execution_count": null,
      "outputs": []
    },
    {
      "cell_type": "code",
      "source": [
        "from langchain.text_splitter import RecursiveCharacterTextSplitter"
      ],
      "metadata": {
        "id": "qPPs-EoGacOA"
      },
      "execution_count": null,
      "outputs": []
    },
    {
      "cell_type": "code",
      "source": [
        "text_splitter = RecursiveCharacterTextSplitter(chunk_size=500, chunk_overlap=20)\n",
        "text_chunks = text_splitter.split_documents(data)"
      ],
      "metadata": {
        "id": "UoHvEpD3acKp"
      },
      "execution_count": null,
      "outputs": []
    },
    {
      "cell_type": "code",
      "source": [
        "len(text_chunks)"
      ],
      "metadata": {
        "colab": {
          "base_uri": "https://localhost:8080/"
        },
        "id": "hUp8xEclacID",
        "outputId": "f53f7e2b-de30-477b-a79b-d695c70ea2f3"
      },
      "execution_count": null,
      "outputs": [
        {
          "output_type": "execute_result",
          "data": {
            "text/plain": [
              "94"
            ]
          },
          "metadata": {},
          "execution_count": 11
        }
      ]
    },
    {
      "cell_type": "code",
      "source": [
        "# embedding"
      ],
      "metadata": {
        "id": "lUItyAsUb17Y"
      },
      "execution_count": null,
      "outputs": []
    },
    {
      "cell_type": "code",
      "source": [
        "from langchain.embeddings import HuggingFaceEmbeddings"
      ],
      "metadata": {
        "id": "-omf3cABacGb"
      },
      "execution_count": null,
      "outputs": []
    },
    {
      "cell_type": "code",
      "source": [
        "embeddings = HuggingFaceEmbeddings(model_name=\"sentence-transformers/all-MiniLM-L6-v2\")"
      ],
      "metadata": {
        "colab": {
          "base_uri": "https://localhost:8080/",
          "height": 589,
          "referenced_widgets": [
            "aedd2d17d4bc47b582fcf0d4390052ac",
            "7ed98e5b36974f0d87cff0a8831975cd",
            "dd5cd0c04ee0418d839df12377eb0251",
            "ee6433548d8d4ddc9575ebb64c22b7a7",
            "23f0e00c5fb042679bfd4fc7387af3b1",
            "14acab3e0b6c4b949f87242251d5c491",
            "0cae0980961945cbba50c4a5b3cbdbc0",
            "08c1bcc6433a4722afb1ad5d9c6c2355",
            "edd965d891ad4e16bfdbe7aed7a1c71c",
            "281032e953af4da489927fa982a3736e",
            "d7e0b1137a0f4f6db7a3c015e2e96987",
            "55370f8610774a32b340f96d494f543b",
            "a7a54fe3aafb4eafaeaae1d986d94363",
            "c77a2247a60b46f0852447d6cf72f1be",
            "e1e106909aed4912a18461f5b8b2cf67",
            "72eebf567d3b46499acacb6787b8207f",
            "cac776cf819b4975a4d1992e187982fd",
            "3e82a2edb2944598b055ccfc7f52fab8",
            "b935bba182e249efb9de5c4776801ce4",
            "6f477a73280041d18387f0dd29b2b146",
            "2e696b43cf8946d6b1bec9a78ae5c8ed",
            "7cc2b7c815ce46bfa4611e1ce4b9207d",
            "146541d16bdd42ddb4c0c28919622a86",
            "f6de4cf83445416ebc2f600463862479",
            "b088fd5fa8cf49e5a1e04f3a26856ebd",
            "01ab197864a9462d9767d00b6459d6b4",
            "fd213d1278624fe190f9561054b92e6b",
            "e74493d35ee64a6a8f0f4853b4b14fe4",
            "9a65d3217e104a7f926584b74080027f",
            "51f8b1d3697445c8830c8b69a59cc7c9",
            "dd90eeee88ae4adb9f9fcec4078636f1",
            "126690512fb4499bb69f22a8ecf0e18f",
            "8649f4e69ed04da2b5b2cb8cc3a8d021",
            "4adf2060ed6241469fd6fe47fad48326",
            "6b782358733c44aaa6ce4665c2a4da2c",
            "8667d60e89f4496890777db8f7a3960f",
            "533eb42212cf493f8f07ca1d4e2f8df9",
            "84ebaffa97a442fe8767839598959c0a",
            "31ca048b7a544b1fa2762101e4ddb942",
            "78b84b83884743599dd2c90c1aa86531",
            "9f40220f51db4675b35ef5e6228af348",
            "15b6868f779e4569ae72aef70ddae6d3",
            "761fccff98534d64bb0767d30bbba0f8",
            "dbd86c4557fb476e941c1e1bd93803c1",
            "0a271c29f6e04b3390cd7092d281eb03",
            "aeb10364e2fc405e82779f45abe5eb41",
            "7d0478fef80c4431bab0a4cc55cf040b",
            "a2030920edc44bb3b5fdf32c6224b53b",
            "32ea11816ee44b4f8c12cbbc62a85477",
            "a29be14055a0477c939ee24de65125e3",
            "4b92ab403c32437d8b4fa07ee76f6b85",
            "82ba7dd97dcb471a813d587cbd70017d",
            "edee095434c7475fb8919d642789de7e",
            "f526543419d642b38c5ce0069e2623e3",
            "956f05a7b7db47e0bba288db6d6d2f33",
            "d581801cd756461e8ac688e40a1bd8b9",
            "9936cd12ef324ce68ebbe895399721be",
            "7db9ce87ed044ca2836d96dd463ddd6a",
            "da64b192936d4c4f89be983f62bd3a7f",
            "3fe4e7390bb148e1afee6b8c43942961",
            "ad00497ee394418496eec36114866440",
            "e4a49a764c294053ba5394c4d21ffeba",
            "4d403fae2c7c43b5bae4bde8258ed9fc",
            "7a74f90255d14c659fa1e304549b8721",
            "8422d836a22e42159b02646e42ab320d",
            "e0e0def8e4724e4a843891d3156311d0",
            "42ab6157739a42dab5c139a3065d37e4",
            "43d3f4aca0ed4c57894efca75b74e990",
            "86815aa9db2f4f9aba5888ce4924c523",
            "171e7d1dbfa34501a00a7d7c77daf5a5",
            "0a02f09177db4f18977c8eb4e89a4c11",
            "688062a65cc946a9953ecf17a58df9d4",
            "6c3221eb3ffe4592979e5d89dc00c53b",
            "5f43b902b42b47cfb856a8866ddecd95",
            "64085c3d7131492aa8a14c005ddeff73",
            "b7747ff68ac24ee4a1c68f00489dfa44",
            "4bc03ad8330446069b0f31f3a7679c6f",
            "1596fa4cb68845d2a8328edfb5643010",
            "710a3ba1139f41c8b3cf9e02cdf9058b",
            "2a44cbc7e90647a487344346af746c0d",
            "f2f0e176e3aa455c86aca89c7283d8e5",
            "7634ba2690344e39bc930596b88645e9",
            "a0347455ea6c4d8aa1e281a8dc4c24d8",
            "b025e5c59bd64a50a038b2af4d5f3a01",
            "f5e94dc5f0904a3289ae1538888e6578",
            "c8272c51a5494de4b9c4275d08f99491",
            "5fa0add5554e493480be9b2ff57a7d76",
            "35f0906f84794bdd891ef5d65bd59442",
            "322eb096e8c74603a7b3d954e5587b30",
            "13b07cf1187c48e99445be025273361c",
            "d19d638d52464187b2ddefaa383e2e8b",
            "63c05c85619f4b638bd870c47f4273da",
            "f388f1858d1a4fdca8eb599895c36f85",
            "3526e3dd3a724a30aa76025933aa43bc",
            "2212deb44c1941129ca7e79786da560b",
            "08c2f5289c544890a81be1824f06dace",
            "c5800fc85bd44d8698957c47bb33153d",
            "ed951944dd734f6fb22c6737fe1fb2c8",
            "62bc5f25c2184e7ebf1835525adad832",
            "1fcb8841148d4802b157021795d7717a",
            "5dd666fcea9a46b89368071218b90907",
            "15d0759072b94978abe43aadfa7040d3",
            "84b4e3b784e14d1992c755f912d14aad",
            "a74f4623f0c94106845a0db728c6ee53",
            "f983ebf967754d2ab14100bac9b3c268",
            "56e8a2f2433f4abea9ef0c2d224af3ec",
            "c6d6244b69f0457d84d733554dbb83f2",
            "de6896628ca44240a66189da1346b034",
            "316d4dca9b10406ba3a6e1630e707613",
            "3955d37b538045738c0996449ed56e95",
            "1f4f17d7822e4451a0c328eb6c0294fa",
            "87d51602257647c3aa79513afd9b2872",
            "1d2c34f13e21495a83a13e4189f9f4f2",
            "45a307f51d10481f8aea0aedd35644a0",
            "4710066e3490431aae3bb50093e10be5",
            "c7994644a2f74aee84678a669cd8a734",
            "94951960da564b3ea043cf2f5e7bccb0",
            "9ac00b8d26d24fc7a624c5127bf9ec9a",
            "de6c751697a94d4aa4b988b813e68ff4",
            "b88f7ae6744c4104976a807895859971",
            "40b681a4169d4b05bed53679c8ef83b3",
            "6d1b6f9aa9c44aedbdbccf1df978737d",
            "7d22e589186044e299f0fa39083d7b06",
            "3c2227ef625544fcba2ba7c551fe7549",
            "13cc90719d214d8aaff78a4667a8c953",
            "e8109593259b46f08cfec9369ef2f2e6",
            "1faf41bf36f64e5bad65f7993e6b9962",
            "7621a3464771480ca5b6bbead875f910",
            "52f2b0e3b3fd407080f6cf8ea88f23b9",
            "f0a5b3bab01644b495fb1b0737ba0670",
            "f9acddcccbb44fe18869846bfa78bf65",
            "108bc11a03974f5ab4038c28373a88d0",
            "4cc4ddfb53e441648f4416fbda16fabb",
            "5f8a088cfc594bc1acf94b0314406c55",
            "f2f80c044def47deb741a5c3e51a7ac8",
            "93ef33a6e08c40fcb07ae233ce1b33b2",
            "0a86a7d1b4814375aa2afe0cad6f7e68",
            "b51b18c605ec4fcd9349f471b2f3995f",
            "7332b92a54e847769cea30570b738659",
            "19d6aed368c14380be053e65bb25330e",
            "cef6542fb28c462ead92ef13ddbb955a",
            "15855d3788a0479b8caef29c1f5b2aea",
            "305b632f32ac42cd99214533be95de5b",
            "0f582d1eb00e463283dc9e0a026d4623",
            "13a28c4027ff48378b2aad3deb97d8db",
            "2e893a05fd7f46c9825e906cbda5c37f",
            "47051162ab8d46e3b2c13c0ce8f26d1d",
            "374880bc275f4e7a8d13c6ab15dd3da0",
            "74c920e0c720492a8f0f9d9c2ff970d1",
            "7394444c750a4925a3daf3cdbd136e79",
            "1c36bc6a46c74e1fb50bef9b36d28717",
            "c9b2af4403e8470892389dfff5ef2a31",
            "a401de095d7d41d0ab1ff27d84844c82",
            "f6eedabd7fe44e2b8751862be3278b73"
          ]
        },
        "id": "i5rXhJPDacFB",
        "outputId": "6418ced5-db62-4741-eac3-1f86e59458ef"
      },
      "execution_count": null,
      "outputs": [
        {
          "output_type": "stream",
          "name": "stderr",
          "text": [
            "/usr/local/lib/python3.10/dist-packages/huggingface_hub/utils/_token.py:88: UserWarning: \n",
            "The secret `HF_TOKEN` does not exist in your Colab secrets.\n",
            "To authenticate with the Hugging Face Hub, create a token in your settings tab (https://huggingface.co/settings/tokens), set it as secret in your Google Colab and restart your session.\n",
            "You will be able to reuse this secret in all of your notebooks.\n",
            "Please note that authentication is recommended but still optional to access public models or datasets.\n",
            "  warnings.warn(\n"
          ]
        },
        {
          "output_type": "display_data",
          "data": {
            "text/plain": [
              ".gitattributes:   0%|          | 0.00/1.18k [00:00<?, ?B/s]"
            ],
            "application/vnd.jupyter.widget-view+json": {
              "version_major": 2,
              "version_minor": 0,
              "model_id": "aedd2d17d4bc47b582fcf0d4390052ac"
            }
          },
          "metadata": {}
        },
        {
          "output_type": "display_data",
          "data": {
            "text/plain": [
              "1_Pooling/config.json:   0%|          | 0.00/190 [00:00<?, ?B/s]"
            ],
            "application/vnd.jupyter.widget-view+json": {
              "version_major": 2,
              "version_minor": 0,
              "model_id": "55370f8610774a32b340f96d494f543b"
            }
          },
          "metadata": {}
        },
        {
          "output_type": "display_data",
          "data": {
            "text/plain": [
              "README.md:   0%|          | 0.00/10.7k [00:00<?, ?B/s]"
            ],
            "application/vnd.jupyter.widget-view+json": {
              "version_major": 2,
              "version_minor": 0,
              "model_id": "146541d16bdd42ddb4c0c28919622a86"
            }
          },
          "metadata": {}
        },
        {
          "output_type": "display_data",
          "data": {
            "text/plain": [
              "config.json:   0%|          | 0.00/612 [00:00<?, ?B/s]"
            ],
            "application/vnd.jupyter.widget-view+json": {
              "version_major": 2,
              "version_minor": 0,
              "model_id": "4adf2060ed6241469fd6fe47fad48326"
            }
          },
          "metadata": {}
        },
        {
          "output_type": "display_data",
          "data": {
            "text/plain": [
              "config_sentence_transformers.json:   0%|          | 0.00/116 [00:00<?, ?B/s]"
            ],
            "application/vnd.jupyter.widget-view+json": {
              "version_major": 2,
              "version_minor": 0,
              "model_id": "0a271c29f6e04b3390cd7092d281eb03"
            }
          },
          "metadata": {}
        },
        {
          "output_type": "display_data",
          "data": {
            "text/plain": [
              "data_config.json:   0%|          | 0.00/39.3k [00:00<?, ?B/s]"
            ],
            "application/vnd.jupyter.widget-view+json": {
              "version_major": 2,
              "version_minor": 0,
              "model_id": "d581801cd756461e8ac688e40a1bd8b9"
            }
          },
          "metadata": {}
        },
        {
          "output_type": "display_data",
          "data": {
            "text/plain": [
              "pytorch_model.bin:   0%|          | 0.00/90.9M [00:00<?, ?B/s]"
            ],
            "application/vnd.jupyter.widget-view+json": {
              "version_major": 2,
              "version_minor": 0,
              "model_id": "42ab6157739a42dab5c139a3065d37e4"
            }
          },
          "metadata": {}
        },
        {
          "output_type": "display_data",
          "data": {
            "text/plain": [
              "sentence_bert_config.json:   0%|          | 0.00/53.0 [00:00<?, ?B/s]"
            ],
            "application/vnd.jupyter.widget-view+json": {
              "version_major": 2,
              "version_minor": 0,
              "model_id": "1596fa4cb68845d2a8328edfb5643010"
            }
          },
          "metadata": {}
        },
        {
          "output_type": "display_data",
          "data": {
            "text/plain": [
              "special_tokens_map.json:   0%|          | 0.00/112 [00:00<?, ?B/s]"
            ],
            "application/vnd.jupyter.widget-view+json": {
              "version_major": 2,
              "version_minor": 0,
              "model_id": "322eb096e8c74603a7b3d954e5587b30"
            }
          },
          "metadata": {}
        },
        {
          "output_type": "display_data",
          "data": {
            "text/plain": [
              "tokenizer.json:   0%|          | 0.00/466k [00:00<?, ?B/s]"
            ],
            "application/vnd.jupyter.widget-view+json": {
              "version_major": 2,
              "version_minor": 0,
              "model_id": "1fcb8841148d4802b157021795d7717a"
            }
          },
          "metadata": {}
        },
        {
          "output_type": "display_data",
          "data": {
            "text/plain": [
              "tokenizer_config.json:   0%|          | 0.00/350 [00:00<?, ?B/s]"
            ],
            "application/vnd.jupyter.widget-view+json": {
              "version_major": 2,
              "version_minor": 0,
              "model_id": "1f4f17d7822e4451a0c328eb6c0294fa"
            }
          },
          "metadata": {}
        },
        {
          "output_type": "display_data",
          "data": {
            "text/plain": [
              "train_script.py:   0%|          | 0.00/13.2k [00:00<?, ?B/s]"
            ],
            "application/vnd.jupyter.widget-view+json": {
              "version_major": 2,
              "version_minor": 0,
              "model_id": "6d1b6f9aa9c44aedbdbccf1df978737d"
            }
          },
          "metadata": {}
        },
        {
          "output_type": "display_data",
          "data": {
            "text/plain": [
              "vocab.txt:   0%|          | 0.00/232k [00:00<?, ?B/s]"
            ],
            "application/vnd.jupyter.widget-view+json": {
              "version_major": 2,
              "version_minor": 0,
              "model_id": "4cc4ddfb53e441648f4416fbda16fabb"
            }
          },
          "metadata": {}
        },
        {
          "output_type": "display_data",
          "data": {
            "text/plain": [
              "modules.json:   0%|          | 0.00/349 [00:00<?, ?B/s]"
            ],
            "application/vnd.jupyter.widget-view+json": {
              "version_major": 2,
              "version_minor": 0,
              "model_id": "0f582d1eb00e463283dc9e0a026d4623"
            }
          },
          "metadata": {}
        }
      ]
    },
    {
      "cell_type": "code",
      "source": [
        "# connnection with db and stroing the data"
      ],
      "metadata": {
        "id": "LmyBj0okacC-"
      },
      "execution_count": null,
      "outputs": []
    },
    {
      "cell_type": "code",
      "source": [
        "from langchain.vectorstores import FAISS"
      ],
      "metadata": {
        "id": "DOdn4PwiacAe"
      },
      "execution_count": null,
      "outputs": []
    },
    {
      "cell_type": "code",
      "source": [
        "faiss = FAISS.from_documents(text_chunks, embeddings)"
      ],
      "metadata": {
        "id": "uYViuaBOab9-"
      },
      "execution_count": null,
      "outputs": []
    },
    {
      "cell_type": "code",
      "source": [
        "# semantic search"
      ],
      "metadata": {
        "id": "BE7SbguaeMFz"
      },
      "execution_count": null,
      "outputs": []
    },
    {
      "cell_type": "code",
      "source": [
        "query = \"what is yolo?\"\n",
        "doc = faiss.similarity_search(query)"
      ],
      "metadata": {
        "id": "K7O4A-a4c_Wh"
      },
      "execution_count": null,
      "outputs": []
    },
    {
      "cell_type": "code",
      "source": [
        "doc"
      ],
      "metadata": {
        "colab": {
          "base_uri": "https://localhost:8080/"
        },
        "id": "MfuiR3_zdHfI",
        "outputId": "3a098c0a-5368-4e37-fba2-cee5454882a1"
      },
      "execution_count": null,
      "outputs": [
        {
          "output_type": "execute_result",
          "data": {
            "text/plain": [
              "[Document(page_content='Figure 6: Qualitative Results. YOLO running on sample artwork and natural images from the internet. It is mostly accurate although it\\ndoes think one person is an airplane.\\nincluding the time to fetch images from the camera and dis-\\nplay the detections.\\nThe resulting system is interactive and engaging. While\\nYOLO processes images individually, when attached to a\\nwebcam it functions like a tracking system, detecting ob-\\njects as they move around and change in appearance. A', metadata={'source': 'pdfs/yolo.pdf', 'page': 7}),\n",
              " Document(page_content='making predictions. Unlike sliding window and region\\nproposal-based techniques, YOLO sees the entire image\\nduring training and test time so it implicitly encodes contex-\\ntual information about classes as well as their appearance.\\nFast R-CNN, a top detection method [14], mistakes back-\\nground patches in an image for objects because it can’t see\\nthe larger context. YOLO makes less than half the number\\nof background errors compared to Fast R-CNN.', metadata={'source': 'pdfs/yolo.pdf', 'page': 1}),\n",
              " Document(page_content='YOLO is refreshingly simple: see Figure 1. A sin-\\ngle convolutional network simultaneously predicts multi-\\nple bounding boxes and class probabilities for those boxes.\\nYOLO trains on full images and directly optimizes detec-\\ntion performance. This uniﬁed model has several beneﬁts\\nover traditional methods of object detection.\\nFirst, YOLO is extremely fast. Since we frame detection\\nas a regression problem we don’t need a complex pipeline.\\nWe simply run our neural network on a new image at test', metadata={'source': 'pdfs/yolo.pdf', 'page': 0}),\n",
              " Document(page_content='Third, YOLO learns generalizable representations of ob-\\njects. When trained on natural images and tested on art-\\nwork, YOLO outperforms top detection methods like DPM\\nand R-CNN by a wide margin. Since YOLO is highly gen-\\neralizable it is less likely to break down when applied to\\nnew domains or unexpected inputs.\\nYOLO still lags behind state-of-the-art detection systems\\nin accuracy. While it can quickly identify objects in im-\\nages it struggles to precisely localize some objects, espe-', metadata={'source': 'pdfs/yolo.pdf', 'page': 1})]"
            ]
          },
          "metadata": {},
          "execution_count": 18
        }
      ]
    },
    {
      "cell_type": "code",
      "source": [
        "import os"
      ],
      "metadata": {
        "id": "dj6fiaNydJ1a"
      },
      "execution_count": null,
      "outputs": []
    },
    {
      "cell_type": "code",
      "source": [
        "from google.colab import userdata\n",
        "OPENAI_API_KEY = userdata.get('OPENAI_API_KEY')"
      ],
      "metadata": {
        "id": "VVqRXqtGdX_S"
      },
      "execution_count": null,
      "outputs": []
    },
    {
      "cell_type": "code",
      "source": [
        "os.environ[\"OPENAI_API_KEY\"]=OPENAI_API_KEY"
      ],
      "metadata": {
        "id": "32SNjU1AdaCM"
      },
      "execution_count": null,
      "outputs": []
    },
    {
      "cell_type": "code",
      "source": [
        "from langchain.llms import OpenAI"
      ],
      "metadata": {
        "id": "Z9IVpnekdegc"
      },
      "execution_count": null,
      "outputs": []
    },
    {
      "cell_type": "code",
      "source": [
        "llm = OpenAI()"
      ],
      "metadata": {
        "id": "NB_N2lfrdlVd"
      },
      "execution_count": null,
      "outputs": []
    },
    {
      "cell_type": "code",
      "source": [
        "# connect to llm"
      ],
      "metadata": {
        "id": "JH6T7rQKeRyD"
      },
      "execution_count": null,
      "outputs": []
    },
    {
      "cell_type": "code",
      "source": [
        "from langchain.chains import RetrievalQA"
      ],
      "metadata": {
        "id": "RXR_dj7odoBM"
      },
      "execution_count": null,
      "outputs": []
    },
    {
      "cell_type": "code",
      "source": [
        "qa = RetrievalQA.from_chain_type(llm = llm , chain_type = \"stuff\", retriever = faiss.as_retriever() )"
      ],
      "metadata": {
        "id": "rcI2WpX2dy_5"
      },
      "execution_count": null,
      "outputs": []
    },
    {
      "cell_type": "code",
      "source": [
        "# checking n texting with the query"
      ],
      "metadata": {
        "id": "_HvOtEfUeU1H"
      },
      "execution_count": null,
      "outputs": []
    },
    {
      "cell_type": "code",
      "source": [
        "query = \"advantages of using yolo?\"\n",
        "ans = qa.run(query)"
      ],
      "metadata": {
        "id": "4xpKSCwPeEf-"
      },
      "execution_count": null,
      "outputs": []
    },
    {
      "cell_type": "code",
      "source": [
        "ans"
      ],
      "metadata": {
        "colab": {
          "base_uri": "https://localhost:8080/",
          "height": 105
        },
        "id": "JQiPAOT6ekSV",
        "outputId": "f0e5f08f-48d2-4779-8044-430a307c51a4"
      },
      "execution_count": null,
      "outputs": [
        {
          "output_type": "execute_result",
          "data": {
            "text/plain": [
              "'\\n1. Speed and efficiency: YOLO is significantly faster than other detection methods, making it more efficient for real-time applications.\\n\\n2. Ability to track moving objects: When attached to a webcam, YOLO can function as a tracking system, detecting objects as they move and change in appearance.\\n\\n3. Contextual understanding: YOLO sees the entire image during training and testing, allowing it to encode contextual information about classes and their appearance. This helps in reducing background errors.\\n\\n4. Boosts performance of other detection methods: YOLO has been shown to significantly improve the performance of other detection methods, such as Fast R-CNN.\\n\\n5. Interactive and engaging: Due to its speed and ability to track moving objects, YOLO can be used in interactive and engaging applications, making it more user-friendly.'"
            ],
            "application/vnd.google.colaboratory.intrinsic+json": {
              "type": "string"
            }
          },
          "metadata": {},
          "execution_count": 35
        }
      ]
    },
    {
      "cell_type": "code",
      "source": [],
      "metadata": {
        "id": "mYtaxX_lepEN"
      },
      "execution_count": null,
      "outputs": []
    }
  ]
}